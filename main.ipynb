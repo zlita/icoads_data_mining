{
 "cells": [
  {
   "cell_type": "code",
   "execution_count": 69,
   "metadata": {},
   "outputs": [],
   "source": [
    "import pandas as pd\n",
    "import numpy as np\n",
    "import folium\n",
    "from folium import plugins\n",
    "from sklearn.cluster import DBSCAN\n",
    "from sklearn import metrics\n",
    "from sklearn.datasets.samples_generator import make_blobs\n",
    "from sklearn.preprocessing import StandardScaler\n",
    "from sklearn.cluster import KMeans\n",
    "import matplotlib.pyplot as plt\n",
    "import datetime"
   ]
  },
  {
   "cell_type": "code",
   "execution_count": 70,
   "metadata": {},
   "outputs": [],
   "source": [
    "df = pd.read_csv('data/janvier_2015.csv', sep=',',dtype={\"latitude\":float,\"longitude\":float,\"wind_direction_true\":float,\"wind_speed\":float,\"present_weather\":float,\"sea_level_pressure\":float,\"air_temperature\":float,\"wetbulb_temperature\":float,\"sea_surface_temp\":float},low_memory=False)"
   ]
  },
  {
   "cell_type": "code",
   "execution_count": 71,
   "metadata": {},
   "outputs": [
    {
     "data": {
      "text/html": [
       "<div>\n",
       "<style scoped>\n",
       "    .dataframe tbody tr th:only-of-type {\n",
       "        vertical-align: middle;\n",
       "    }\n",
       "\n",
       "    .dataframe tbody tr th {\n",
       "        vertical-align: top;\n",
       "    }\n",
       "\n",
       "    .dataframe thead th {\n",
       "        text-align: right;\n",
       "    }\n",
       "</style>\n",
       "<table border=\"1\" class=\"dataframe\">\n",
       "  <thead>\n",
       "    <tr style=\"text-align: right;\">\n",
       "      <th></th>\n",
       "      <th>latitude</th>\n",
       "      <th>longitude</th>\n",
       "      <th>wind_direction_true</th>\n",
       "      <th>wind_speed</th>\n",
       "      <th>present_weather</th>\n",
       "      <th>sea_level_pressure</th>\n",
       "      <th>air_temperature</th>\n",
       "      <th>wetbulb_temperature</th>\n",
       "      <th>sea_surface_temp</th>\n",
       "      <th>total_cloud_amount</th>\n",
       "      <th>cloud_height</th>\n",
       "      <th>wave_direction</th>\n",
       "      <th>wave_period</th>\n",
       "      <th>wave_height</th>\n",
       "      <th>swell_direction</th>\n",
       "      <th>swell_period</th>\n",
       "      <th>swell_height</th>\n",
       "      <th>timestamp</th>\n",
       "    </tr>\n",
       "  </thead>\n",
       "  <tbody>\n",
       "    <tr>\n",
       "      <th>0</th>\n",
       "      <td>33.0</td>\n",
       "      <td>143.0</td>\n",
       "      <td>270.0</td>\n",
       "      <td>12.9</td>\n",
       "      <td>3.0</td>\n",
       "      <td>995.0</td>\n",
       "      <td>13.0</td>\n",
       "      <td>11.0</td>\n",
       "      <td>17.9</td>\n",
       "      <td>8.0</td>\n",
       "      <td>6</td>\n",
       "      <td>NaN</td>\n",
       "      <td>8.0</td>\n",
       "      <td>4.0</td>\n",
       "      <td>30.0</td>\n",
       "      <td>11.0</td>\n",
       "      <td>4.0</td>\n",
       "      <td>2005-01-31 17:45:00+00:00</td>\n",
       "    </tr>\n",
       "    <tr>\n",
       "      <th>1</th>\n",
       "      <td>43.4</td>\n",
       "      <td>-13.0</td>\n",
       "      <td>60.0</td>\n",
       "      <td>8.7</td>\n",
       "      <td>2.0</td>\n",
       "      <td>1029.9</td>\n",
       "      <td>12.6</td>\n",
       "      <td>NaN</td>\n",
       "      <td>13.9</td>\n",
       "      <td>6.0</td>\n",
       "      <td>6</td>\n",
       "      <td>NaN</td>\n",
       "      <td>15.0</td>\n",
       "      <td>4.0</td>\n",
       "      <td>13.0</td>\n",
       "      <td>15.0</td>\n",
       "      <td>4.0</td>\n",
       "      <td>2005-01-12 12:00:00+00:00</td>\n",
       "    </tr>\n",
       "    <tr>\n",
       "      <th>2</th>\n",
       "      <td>66.0</td>\n",
       "      <td>1.6</td>\n",
       "      <td>250.0</td>\n",
       "      <td>12.3</td>\n",
       "      <td>2.0</td>\n",
       "      <td>998.8</td>\n",
       "      <td>6.2</td>\n",
       "      <td>NaN</td>\n",
       "      <td>6.5</td>\n",
       "      <td>8.0</td>\n",
       "      <td>3</td>\n",
       "      <td>NaN</td>\n",
       "      <td>11.0</td>\n",
       "      <td>7.5</td>\n",
       "      <td>NaN</td>\n",
       "      <td>NaN</td>\n",
       "      <td>NaN</td>\n",
       "      <td>2005-01-29 20:00:00+00:00</td>\n",
       "    </tr>\n",
       "  </tbody>\n",
       "</table>\n",
       "</div>"
      ],
      "text/plain": [
       "   latitude  longitude  wind_direction_true  wind_speed  present_weather  \\\n",
       "0      33.0      143.0                270.0        12.9              3.0   \n",
       "1      43.4      -13.0                 60.0         8.7              2.0   \n",
       "2      66.0        1.6                250.0        12.3              2.0   \n",
       "\n",
       "   sea_level_pressure  air_temperature  wetbulb_temperature  sea_surface_temp  \\\n",
       "0               995.0             13.0                 11.0              17.9   \n",
       "1              1029.9             12.6                  NaN              13.9   \n",
       "2               998.8              6.2                  NaN               6.5   \n",
       "\n",
       "   total_cloud_amount cloud_height  wave_direction  wave_period  wave_height  \\\n",
       "0                 8.0            6             NaN          8.0          4.0   \n",
       "1                 6.0            6             NaN         15.0          4.0   \n",
       "2                 8.0            3             NaN         11.0          7.5   \n",
       "\n",
       "   swell_direction  swell_period  swell_height                  timestamp  \n",
       "0             30.0          11.0           4.0  2005-01-31 17:45:00+00:00  \n",
       "1             13.0          15.0           4.0  2005-01-12 12:00:00+00:00  \n",
       "2              NaN           NaN           NaN  2005-01-29 20:00:00+00:00  "
      ]
     },
     "execution_count": 71,
     "metadata": {},
     "output_type": "execute_result"
    }
   ],
   "source": [
    "# delete index of all dataset\n",
    "df = df.drop(df.columns[0],axis=1)\n",
    "df_origin_data = df\n",
    "df.head(3)"
   ]
  },
  {
   "cell_type": "code",
   "execution_count": 72,
   "metadata": {},
   "outputs": [],
   "source": [
    "def fill_NaN_and_String(df):\n",
    "    df = df.replace('A',10)\n",
    "    df.fillna(0,inplace=True)\n",
    "    return df"
   ]
  },
  {
   "cell_type": "code",
   "execution_count": 73,
   "metadata": {},
   "outputs": [],
   "source": [
    "def keep_only_temp(df):\n",
    "    df = df.drop([\"wind_direction_true\",\"wind_speed\",\"present_weather\",\"sea_surface_temp\",\"wetbulb_temperature\",\"total_cloud_amount\",\"cloud_height\",\"wave_direction\",\"wave_period\",\"wave_height\",\"swell_direction\",\"swell_period\",\"swell_height\"],axis=1)\n",
    "    return df"
   ]
  },
  {
   "cell_type": "code",
   "execution_count": 74,
   "metadata": {},
   "outputs": [
    {
     "data": {
      "text/html": [
       "<div>\n",
       "<style scoped>\n",
       "    .dataframe tbody tr th:only-of-type {\n",
       "        vertical-align: middle;\n",
       "    }\n",
       "\n",
       "    .dataframe tbody tr th {\n",
       "        vertical-align: top;\n",
       "    }\n",
       "\n",
       "    .dataframe thead th {\n",
       "        text-align: right;\n",
       "    }\n",
       "</style>\n",
       "<table border=\"1\" class=\"dataframe\">\n",
       "  <thead>\n",
       "    <tr style=\"text-align: right;\">\n",
       "      <th></th>\n",
       "      <th>latitude</th>\n",
       "      <th>longitude</th>\n",
       "      <th>sea_level_pressure</th>\n",
       "      <th>air_temperature</th>\n",
       "      <th>timestamp</th>\n",
       "    </tr>\n",
       "  </thead>\n",
       "  <tbody>\n",
       "    <tr>\n",
       "      <th>0</th>\n",
       "      <td>33.0</td>\n",
       "      <td>143.0</td>\n",
       "      <td>995.0</td>\n",
       "      <td>13.0</td>\n",
       "      <td>2005-01-31 17:45:00+00:00</td>\n",
       "    </tr>\n",
       "    <tr>\n",
       "      <th>1</th>\n",
       "      <td>43.4</td>\n",
       "      <td>-13.0</td>\n",
       "      <td>1029.9</td>\n",
       "      <td>12.6</td>\n",
       "      <td>2005-01-12 12:00:00+00:00</td>\n",
       "    </tr>\n",
       "    <tr>\n",
       "      <th>2</th>\n",
       "      <td>66.0</td>\n",
       "      <td>1.6</td>\n",
       "      <td>998.8</td>\n",
       "      <td>6.2</td>\n",
       "      <td>2005-01-29 20:00:00+00:00</td>\n",
       "    </tr>\n",
       "    <tr>\n",
       "      <th>3</th>\n",
       "      <td>56.5</td>\n",
       "      <td>3.2</td>\n",
       "      <td>1013.2</td>\n",
       "      <td>7.1</td>\n",
       "      <td>2005-01-06 06:00:00+00:00</td>\n",
       "    </tr>\n",
       "    <tr>\n",
       "      <th>4</th>\n",
       "      <td>70.4</td>\n",
       "      <td>17.5</td>\n",
       "      <td>1010.2</td>\n",
       "      <td>4.0</td>\n",
       "      <td>2005-01-26 06:00:00+00:00</td>\n",
       "    </tr>\n",
       "    <tr>\n",
       "      <th>5</th>\n",
       "      <td>41.1</td>\n",
       "      <td>168.7</td>\n",
       "      <td>992.5</td>\n",
       "      <td>12.0</td>\n",
       "      <td>2005-01-31 23:45:00+00:00</td>\n",
       "    </tr>\n",
       "    <tr>\n",
       "      <th>6</th>\n",
       "      <td>41.3</td>\n",
       "      <td>-163.4</td>\n",
       "      <td>995.5</td>\n",
       "      <td>9.0</td>\n",
       "      <td>2005-01-30 12:00:00+00:00</td>\n",
       "    </tr>\n",
       "    <tr>\n",
       "      <th>7</th>\n",
       "      <td>61.1</td>\n",
       "      <td>1.0</td>\n",
       "      <td>988.8</td>\n",
       "      <td>5.7</td>\n",
       "      <td>2005-01-19 15:00:00+00:00</td>\n",
       "    </tr>\n",
       "    <tr>\n",
       "      <th>8</th>\n",
       "      <td>61.2</td>\n",
       "      <td>1.1</td>\n",
       "      <td>989.3</td>\n",
       "      <td>3.6</td>\n",
       "      <td>2005-01-02 13:00:00+00:00</td>\n",
       "    </tr>\n",
       "    <tr>\n",
       "      <th>9</th>\n",
       "      <td>61.2</td>\n",
       "      <td>1.1</td>\n",
       "      <td>981.5</td>\n",
       "      <td>3.9</td>\n",
       "      <td>2005-01-18 18:00:00+00:00</td>\n",
       "    </tr>\n",
       "  </tbody>\n",
       "</table>\n",
       "</div>"
      ],
      "text/plain": [
       "   latitude  longitude  sea_level_pressure  air_temperature  \\\n",
       "0      33.0      143.0               995.0             13.0   \n",
       "1      43.4      -13.0              1029.9             12.6   \n",
       "2      66.0        1.6               998.8              6.2   \n",
       "3      56.5        3.2              1013.2              7.1   \n",
       "4      70.4       17.5              1010.2              4.0   \n",
       "5      41.1      168.7               992.5             12.0   \n",
       "6      41.3     -163.4               995.5              9.0   \n",
       "7      61.1        1.0               988.8              5.7   \n",
       "8      61.2        1.1               989.3              3.6   \n",
       "9      61.2        1.1               981.5              3.9   \n",
       "\n",
       "                   timestamp  \n",
       "0  2005-01-31 17:45:00+00:00  \n",
       "1  2005-01-12 12:00:00+00:00  \n",
       "2  2005-01-29 20:00:00+00:00  \n",
       "3  2005-01-06 06:00:00+00:00  \n",
       "4  2005-01-26 06:00:00+00:00  \n",
       "5  2005-01-31 23:45:00+00:00  \n",
       "6  2005-01-30 12:00:00+00:00  \n",
       "7  2005-01-19 15:00:00+00:00  \n",
       "8  2005-01-02 13:00:00+00:00  \n",
       "9  2005-01-18 18:00:00+00:00  "
      ]
     },
     "execution_count": 74,
     "metadata": {},
     "output_type": "execute_result"
    }
   ],
   "source": [
    "df = keep_only_temp(df)\n",
    "df = df.dropna()\n",
    "#df = fill_NaN_and_String(df)\n",
    "df.head(10)"
   ]
  },
  {
   "cell_type": "code",
   "execution_count": 75,
   "metadata": {},
   "outputs": [
    {
     "name": "stdout",
     "output_type": "stream",
     "text": [
      "334823\n"
     ]
    }
   ],
   "source": [
    "print(len(df))"
   ]
  },
  {
   "cell_type": "code",
   "execution_count": 76,
   "metadata": {},
   "outputs": [],
   "source": [
    "sea_level = []\n",
    "air_temp = []\n",
    "data = []\n",
    "latitude = []\n",
    "longitude = []"
   ]
  },
  {
   "cell_type": "code",
   "execution_count": 77,
   "metadata": {},
   "outputs": [],
   "source": [
    "def keep_by_day(day):\n",
    "    global sea_level,air_temp,data,latitude,longitude\n",
    "    sea_level = []\n",
    "    air_temp = []\n",
    "    data = []\n",
    "    latitude = []\n",
    "    longitude = []\n",
    "    for index, row in df.iterrows():\n",
    "        storedTime = datetime.datetime.strptime(row[\"timestamp\"][:-6], \"%Y-%m-%d %H:%M:%S\")\n",
    "        if storedTime.day == day:\n",
    "    #    if -8 < row['latitude'] < 62 and -86 < row['longitude'] < 12:\n",
    "            sea_level.append(row['sea_level_pressure'])\n",
    "            air_temp.append(row['air_temperature'])\n",
    "            latitude.append(row['latitude'])\n",
    "            longitude.append(row['longitude'])\n",
    "            data.append(row)"
   ]
  },
  {
   "cell_type": "code",
   "execution_count": 78,
   "metadata": {},
   "outputs": [
    {
     "name": "stdout",
     "output_type": "stream",
     "text": [
      "0\n"
     ]
    }
   ],
   "source": [
    "print(len(data))"
   ]
  },
  {
   "cell_type": "code",
   "execution_count": 79,
   "metadata": {},
   "outputs": [],
   "source": [
    "# too long on all dataset\n",
    "def fuse_balise(data):\n",
    "    new_data = []\n",
    "    while data != [None]:\n",
    "        coord_to_erase = []\n",
    "        print(len(data))\n",
    "        storedTime = datetime.datetime.strptime(row[\"timestamp\"][:-6], \"%Y-%m-%d %H:%M:%S\")\n",
    "        new_row = []\n",
    "        for index,coord2 in enumerate(data):\n",
    "            if data[0][\"latitude\"] == coord2[\"latitude\"] and data[0][\"longitude\"] == coord2[\"longitude\"]:\n",
    "                coord2[\"timestamp\"] = storedTime.month\n",
    "                coord2[\"cloud_height\"] = float(coord2[\"cloud_height\"])\n",
    "                new_row.append(coord2)\n",
    "                try:\n",
    "                    data.pop(index)\n",
    "                except IndexError:\n",
    "                    print(\"sorry -- can't pop that\")\n",
    "        #print(coord_to_erase)\n",
    "        new_row = np.array(new_row)\n",
    "        #print(new_row)\n",
    "        if len(new_row) > 1:\n",
    "            new_data.append(np.mean(new_row))\n",
    "        else:\n",
    "            new_data.append(new_row)\n",
    "    return new_data\n",
    "                    "
   ]
  },
  {
   "cell_type": "code",
   "execution_count": 80,
   "metadata": {
    "scrolled": true
   },
   "outputs": [],
   "source": [
    "#temp = data\n",
    "#machin = fuse_balise(temp)"
   ]
  },
  {
   "cell_type": "code",
   "execution_count": 81,
   "metadata": {},
   "outputs": [],
   "source": [
    "nb_clusters = 4"
   ]
  },
  {
   "cell_type": "code",
   "execution_count": 82,
   "metadata": {},
   "outputs": [],
   "source": [
    "def kmeans_on_pressure_temp():\n",
    "    global sea_level,air_temp,data,latitude,longitude\n",
    "    latitude = np.array(latitude)\n",
    "    longitude = np.array(longitude)\n",
    "    sea_level = np.array(sea_level)\n",
    "    air_temp = np.array(air_temp)\n",
    "    X = np.column_stack((sea_level, air_temp))\n",
    "    pos = np.column_stack((latitude, longitude))\n",
    "    #X = StandardScaler().fit_transform(dataZone)\n",
    "    kmeans = KMeans(n_clusters=nb_clusters,random_state=1)\n",
    "    kmeans.fit(X)\n",
    "    \n",
    "    idx = np.argsort(kmeans.cluster_centers_.sum(axis=1))\n",
    "    lut = np.zeros_like(idx)\n",
    "    lut[idx] = np.arange(nb_clusters)\n",
    "    #lut[kmeans.labels_]\n",
    "    y_kmeans = lut[kmeans.labels_] #kmeans.predict(X)\n",
    "    #plt.scatter(pos[:,0], pos[:, 1], c=y_kmeans, s=50, cmap='viridis')\n",
    "    #plt.show()\n",
    "    return y_kmeans\n",
    "\n",
    "#centers = kmeans.cluster_centers_\n",
    "#plt.scatter(centers[:, 0], centers[:, 1], c='black', s=200, alpha=0.5);"
   ]
  },
  {
   "cell_type": "code",
   "execution_count": 83,
   "metadata": {},
   "outputs": [
    {
     "data": {
      "text/html": [
       "<div style=\"width:100%;\"><div style=\"position:relative;width:100%;height:0;padding-bottom:60%;\"><iframe src=\"data:text/html;charset=utf-8;base64,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\" style=\"position:absolute;width:100%;height:100%;left:0;top:0;border:none !important;\" allowfullscreen webkitallowfullscreen mozallowfullscreen></iframe></div></div>"
      ],
      "text/plain": [
       "<folium.folium.Map at 0x7f545de49748>"
      ]
     },
     "execution_count": 83,
     "metadata": {},
     "output_type": "execute_result"
    }
   ],
   "source": [
    "m = folium.Map([0,0],zoom_start=1.5,prefer_canvas=True)\n",
    "m"
   ]
  },
  {
   "cell_type": "code",
   "execution_count": null,
   "metadata": {},
   "outputs": [],
   "source": []
  },
  {
   "cell_type": "code",
   "execution_count": 84,
   "metadata": {},
   "outputs": [],
   "source": [
    "def plotDot(points, cluster):\n",
    "    colors = [\"red\",\"blue\",\"green\",\"black\"]\n",
    "    for index,point in enumerate(points):\n",
    "        for i in range(nb_clusters):\n",
    "            if cluster[index] == i :\n",
    "                folium.CircleMarker([point[\"latitude\"], point[\"longitude\"]],\n",
    "                                radius=3,\n",
    "                                weight=0.5, color=colors[i]).add_to(m)\n",
    "            "
   ]
  },
  {
   "cell_type": "code",
   "execution_count": 85,
   "metadata": {
    "scrolled": false
   },
   "outputs": [],
   "source": [
    "for i in range(1,32):\n",
    "    title = \"cluster_on_map_day{}.html\".format(i)\n",
    "    m = folium.Map([0, 0], zoom_start=1.5,prefer_canvas=True)\n",
    "    keep_by_day(i)\n",
    "    y_kmeans = kmeans_on_pressure_temp()\n",
    "    plotDot(data,y_kmeans)\n",
    "    m.save(title)"
   ]
  },
  {
   "cell_type": "code",
   "execution_count": 86,
   "metadata": {},
   "outputs": [
    {
     "ename": "NameError",
     "evalue": "name 'X' is not defined",
     "output_type": "error",
     "traceback": [
      "\u001b[0;31m---------------------------------------------------------------------------\u001b[0m",
      "\u001b[0;31mNameError\u001b[0m                                 Traceback (most recent call last)",
      "\u001b[0;32m<ipython-input-86-7d81efc6b802>\u001b[0m in \u001b[0;36m<module>\u001b[0;34m()\u001b[0m\n\u001b[1;32m      1\u001b[0m \u001b[0;31m# plot heatmap\u001b[0m\u001b[0;34m\u001b[0m\u001b[0;34m\u001b[0m\u001b[0;34m\u001b[0m\u001b[0m\n\u001b[0;32m----> 2\u001b[0;31m \u001b[0mm\u001b[0m\u001b[0;34m.\u001b[0m\u001b[0madd_child\u001b[0m\u001b[0;34m(\u001b[0m\u001b[0mplugins\u001b[0m\u001b[0;34m.\u001b[0m\u001b[0mHeatMap\u001b[0m\u001b[0;34m(\u001b[0m\u001b[0mX\u001b[0m\u001b[0;34m,\u001b[0m \u001b[0mradius\u001b[0m\u001b[0;34m=\u001b[0m\u001b[0;36m15\u001b[0m\u001b[0;34m)\u001b[0m\u001b[0;34m)\u001b[0m\u001b[0;34m\u001b[0m\u001b[0;34m\u001b[0m\u001b[0m\n\u001b[0m\u001b[1;32m      3\u001b[0m \u001b[0mm\u001b[0m\u001b[0;34m\u001b[0m\u001b[0;34m\u001b[0m\u001b[0m\n",
      "\u001b[0;31mNameError\u001b[0m: name 'X' is not defined"
     ]
    }
   ],
   "source": [
    "# plot heatmap\n",
    "m.add_child(plugins.HeatMap(X, radius=15))\n",
    "m"
   ]
  }
 ],
 "metadata": {
  "kernelspec": {
   "display_name": "Python 3",
   "language": "python",
   "name": "python3"
  },
  "language_info": {
   "codemirror_mode": {
    "name": "ipython",
    "version": 3
   },
   "file_extension": ".py",
   "mimetype": "text/x-python",
   "name": "python",
   "nbconvert_exporter": "python",
   "pygments_lexer": "ipython3",
   "version": "3.6.7"
  }
 },
 "nbformat": 4,
 "nbformat_minor": 2
}
